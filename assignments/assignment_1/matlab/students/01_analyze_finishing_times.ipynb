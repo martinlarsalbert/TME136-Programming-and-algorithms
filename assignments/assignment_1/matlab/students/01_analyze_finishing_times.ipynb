{
 "cells": [
  {
   "cell_type": "code",
   "execution_count": 1,
   "metadata": {},
   "outputs": [
    {
     "name": "stderr",
     "output_type": "stream",
     "text": [
      "Duplicate key in file WindowsPath('C:/Users/maa/.matplotlib/stylelib/paper.mplstyle'), line 461 ('figure.figsize   : 5, 3   ## figure size in inches')\n",
      "Duplicate key in file WindowsPath('C:/Users/maa/.matplotlib/stylelib/paper.mplstyle'), line 462 ('figure.dpi       : 100        ## figure dots per inch')\n"
     ]
    }
   ],
   "source": [
    "%matplotlib inline\n",
    "import pandas as pd\n",
    "import os\n",
    "import re\n",
    "import shutil\n",
    "import numpy as np\n",
    "import warnings"
   ]
  },
  {
   "cell_type": "code",
   "execution_count": 2,
   "metadata": {},
   "outputs": [],
   "source": [
    "df = pd.read_csv('students.csv')"
   ]
  },
  {
   "cell_type": "code",
   "execution_count": 3,
   "metadata": {
    "scrolled": false
   },
   "outputs": [
    {
     "data": {
      "text/html": [
       "<div>\n",
       "<style scoped>\n",
       "    .dataframe tbody tr th:only-of-type {\n",
       "        vertical-align: middle;\n",
       "    }\n",
       "\n",
       "    .dataframe tbody tr th {\n",
       "        vertical-align: top;\n",
       "    }\n",
       "\n",
       "    .dataframe thead th {\n",
       "        text-align: right;\n",
       "    }\n",
       "</style>\n",
       "<table border=\"1\" class=\"dataframe\">\n",
       "  <thead>\n",
       "    <tr style=\"text-align: right;\">\n",
       "      <th></th>\n",
       "      <th>family name</th>\n",
       "      <th>name</th>\n",
       "    </tr>\n",
       "  </thead>\n",
       "  <tbody>\n",
       "    <tr>\n",
       "      <th>0</th>\n",
       "      <td>Dahlén</td>\n",
       "      <td>Isak</td>\n",
       "    </tr>\n",
       "    <tr>\n",
       "      <th>1</th>\n",
       "      <td>Dahlqvist</td>\n",
       "      <td>Petrus</td>\n",
       "    </tr>\n",
       "    <tr>\n",
       "      <th>2</th>\n",
       "      <td>Danielsson</td>\n",
       "      <td>Isac</td>\n",
       "    </tr>\n",
       "    <tr>\n",
       "      <th>3</th>\n",
       "      <td>Durkin</td>\n",
       "      <td>Kirill</td>\n",
       "    </tr>\n",
       "    <tr>\n",
       "      <th>4</th>\n",
       "      <td>Dynevik</td>\n",
       "      <td>Philip</td>\n",
       "    </tr>\n",
       "    <tr>\n",
       "      <th>5</th>\n",
       "      <td>Edsbagge</td>\n",
       "      <td>Carl</td>\n",
       "    </tr>\n",
       "    <tr>\n",
       "      <th>6</th>\n",
       "      <td>Egeland</td>\n",
       "      <td>Karl</td>\n",
       "    </tr>\n",
       "    <tr>\n",
       "      <th>7</th>\n",
       "      <td>Ekdahl</td>\n",
       "      <td>Jonathan</td>\n",
       "    </tr>\n",
       "    <tr>\n",
       "      <th>8</th>\n",
       "      <td>El Masri</td>\n",
       "      <td>Mohammed Ali</td>\n",
       "    </tr>\n",
       "    <tr>\n",
       "      <th>9</th>\n",
       "      <td>Elm Jonsson</td>\n",
       "      <td>Benjamin</td>\n",
       "    </tr>\n",
       "    <tr>\n",
       "      <th>10</th>\n",
       "      <td>Elnertz</td>\n",
       "      <td>Johan</td>\n",
       "    </tr>\n",
       "    <tr>\n",
       "      <th>11</th>\n",
       "      <td>Engelsen</td>\n",
       "      <td>Martin</td>\n",
       "    </tr>\n",
       "    <tr>\n",
       "      <th>12</th>\n",
       "      <td>Engh</td>\n",
       "      <td>Love</td>\n",
       "    </tr>\n",
       "    <tr>\n",
       "      <th>13</th>\n",
       "      <td>Eriksson</td>\n",
       "      <td>Daniel</td>\n",
       "    </tr>\n",
       "    <tr>\n",
       "      <th>14</th>\n",
       "      <td>Eriksson</td>\n",
       "      <td>Vigg</td>\n",
       "    </tr>\n",
       "    <tr>\n",
       "      <th>15</th>\n",
       "      <td>Erlandsson</td>\n",
       "      <td>Johan</td>\n",
       "    </tr>\n",
       "    <tr>\n",
       "      <th>16</th>\n",
       "      <td>Erneborg</td>\n",
       "      <td>Jonathan</td>\n",
       "    </tr>\n",
       "    <tr>\n",
       "      <th>17</th>\n",
       "      <td>Espedalen</td>\n",
       "      <td>David</td>\n",
       "    </tr>\n",
       "    <tr>\n",
       "      <th>18</th>\n",
       "      <td>Fagerlind</td>\n",
       "      <td>Fabian</td>\n",
       "    </tr>\n",
       "    <tr>\n",
       "      <th>19</th>\n",
       "      <td>Fahl</td>\n",
       "      <td>Hilda</td>\n",
       "    </tr>\n",
       "    <tr>\n",
       "      <th>20</th>\n",
       "      <td>Fazlija</td>\n",
       "      <td>Bekir</td>\n",
       "    </tr>\n",
       "    <tr>\n",
       "      <th>21</th>\n",
       "      <td>Fischer</td>\n",
       "      <td>Rasmus</td>\n",
       "    </tr>\n",
       "    <tr>\n",
       "      <th>22</th>\n",
       "      <td>Friberg</td>\n",
       "      <td>Sofia</td>\n",
       "    </tr>\n",
       "    <tr>\n",
       "      <th>23</th>\n",
       "      <td>Gillerstedt</td>\n",
       "      <td>Emelie</td>\n",
       "    </tr>\n",
       "    <tr>\n",
       "      <th>24</th>\n",
       "      <td>Göransson</td>\n",
       "      <td>Milton</td>\n",
       "    </tr>\n",
       "    <tr>\n",
       "      <th>25</th>\n",
       "      <td>Götberg</td>\n",
       "      <td>Anna</td>\n",
       "    </tr>\n",
       "    <tr>\n",
       "      <th>26</th>\n",
       "      <td>Gotenius</td>\n",
       "      <td>Frida</td>\n",
       "    </tr>\n",
       "    <tr>\n",
       "      <th>27</th>\n",
       "      <td>Gryte</td>\n",
       "      <td>Elin</td>\n",
       "    </tr>\n",
       "    <tr>\n",
       "      <th>28</th>\n",
       "      <td>Gustafsson Blüme</td>\n",
       "      <td>Christoffer</td>\n",
       "    </tr>\n",
       "    <tr>\n",
       "      <th>29</th>\n",
       "      <td>Gustafsson</td>\n",
       "      <td>Alexander</td>\n",
       "    </tr>\n",
       "    <tr>\n",
       "      <th>30</th>\n",
       "      <td>Gylseth</td>\n",
       "      <td>May Venke</td>\n",
       "    </tr>\n",
       "  </tbody>\n",
       "</table>\n",
       "</div>"
      ],
      "text/plain": [
       "         family name           name\n",
       "0             Dahlén           Isak\n",
       "1          Dahlqvist         Petrus\n",
       "2         Danielsson           Isac\n",
       "3             Durkin         Kirill\n",
       "4            Dynevik         Philip\n",
       "5           Edsbagge           Carl\n",
       "6            Egeland           Karl\n",
       "7             Ekdahl       Jonathan\n",
       "8           El Masri   Mohammed Ali\n",
       "9        Elm Jonsson       Benjamin\n",
       "10           Elnertz          Johan\n",
       "11          Engelsen         Martin\n",
       "12              Engh           Love\n",
       "13          Eriksson         Daniel\n",
       "14          Eriksson           Vigg\n",
       "15        Erlandsson          Johan\n",
       "16          Erneborg       Jonathan\n",
       "17         Espedalen          David\n",
       "18         Fagerlind         Fabian\n",
       "19              Fahl          Hilda\n",
       "20           Fazlija          Bekir\n",
       "21           Fischer         Rasmus\n",
       "22           Friberg          Sofia\n",
       "23       Gillerstedt         Emelie\n",
       "24         Göransson         Milton\n",
       "25           Götberg           Anna\n",
       "26          Gotenius          Frida\n",
       "27             Gryte           Elin\n",
       "28  Gustafsson Blüme    Christoffer\n",
       "29        Gustafsson      Alexander\n",
       "30           Gylseth      May Venke"
      ]
     },
     "execution_count": 3,
     "metadata": {},
     "output_type": "execute_result"
    }
   ],
   "source": [
    "df"
   ]
  },
  {
   "cell_type": "code",
   "execution_count": 4,
   "metadata": {},
   "outputs": [],
   "source": [
    "regexp=re.compile(r'^ *(.*)')\n",
    "def clean_names(name):\n",
    "    result=regexp.search(name)\n",
    "    return result.group(1)"
   ]
  },
  {
   "cell_type": "code",
   "execution_count": 5,
   "metadata": {},
   "outputs": [],
   "source": [
    "df['name']=df['name'].apply(func=clean_names)"
   ]
  },
  {
   "cell_type": "code",
   "execution_count": 6,
   "metadata": {},
   "outputs": [],
   "source": [
    "def create_folder(row,root_path='assignments'):\n",
    "    \n",
    "    family_name = row['family name']\n",
    "    name = row['name']\n",
    "    dir_name = '%s_%s' % (family_name,name)\n",
    "    path = os.path.abspath(os.path.join(root_path,dir_name))\n",
    "    if not os.path.exists(path):\n",
    "        os.mkdir(path)\n",
    "    \n",
    "    return path\n",
    "    "
   ]
  },
  {
   "cell_type": "markdown",
   "metadata": {},
   "source": [
    "## Create folders:"
   ]
  },
  {
   "cell_type": "code",
   "execution_count": 7,
   "metadata": {},
   "outputs": [],
   "source": [
    "root_path='assignments'\n",
    "\n",
    "if not os.path.exists(root_path):\n",
    "    os.mkdir(root_path)\n",
    "\n",
    "df['dir_path'] = df.apply(func=create_folder, axis=1, root_path=root_path)"
   ]
  },
  {
   "cell_type": "code",
   "execution_count": 8,
   "metadata": {},
   "outputs": [],
   "source": [
    "def make_clickable(val):\n",
    "    s=r'file:///' + val\n",
    "    return '<a href=\"{}\">{}</a>'.format(s,\"path\")"
   ]
  },
  {
   "cell_type": "code",
   "execution_count": 9,
   "metadata": {},
   "outputs": [],
   "source": [
    "def show(df):\n",
    "    return df.style.format({'dir_path': make_clickable})"
   ]
  },
  {
   "cell_type": "markdown",
   "metadata": {},
   "source": [
    "## Check exist: *student_AutomaticGearbox.m*"
   ]
  },
  {
   "cell_type": "code",
   "execution_count": 10,
   "metadata": {},
   "outputs": [],
   "source": [
    "run_file_name='student_AutomaticGearbox.m'\n",
    "def has_run_file(row, run_file_name='student_AutomaticGearbox.m'):\n",
    "    path=os.path.join(row['dir_path'],run_file_name)\n",
    "    return os.path.exists(path)"
   ]
  },
  {
   "cell_type": "code",
   "execution_count": 11,
   "metadata": {},
   "outputs": [],
   "source": [
    "def recreate_run_file(row):\n",
    "    files = os.listdir(row['dir_path'])\n",
    "    for file in files:\n",
    "        name,ext = os.path.splitext(file)\n",
    "        if ext=='.m':\n",
    "            if 'student_AutomaticGearbox' in file:\n",
    "                src=os.path.join(row['dir_path'],file)\n",
    "                dst=os.path.join(row['dir_path'],'student_AutomaticGearbox.m')\n",
    "                if not os.path.exists(dst):\n",
    "                    shutil.copyfile(src,dst)"
   ]
  },
  {
   "cell_type": "code",
   "execution_count": 12,
   "metadata": {},
   "outputs": [],
   "source": [
    "df['has_run_file'] = df.apply(func=has_run_file, axis=1)"
   ]
  },
  {
   "cell_type": "code",
   "execution_count": 13,
   "metadata": {},
   "outputs": [
    {
     "data": {
      "text/html": [
       "<div>\n",
       "<style scoped>\n",
       "    .dataframe tbody tr th:only-of-type {\n",
       "        vertical-align: middle;\n",
       "    }\n",
       "\n",
       "    .dataframe tbody tr th {\n",
       "        vertical-align: top;\n",
       "    }\n",
       "\n",
       "    .dataframe thead th {\n",
       "        text-align: right;\n",
       "    }\n",
       "</style>\n",
       "<table border=\"1\" class=\"dataframe\">\n",
       "  <thead>\n",
       "    <tr style=\"text-align: right;\">\n",
       "      <th></th>\n",
       "      <th>family name</th>\n",
       "      <th>name</th>\n",
       "      <th>dir_path</th>\n",
       "      <th>has_run_file</th>\n",
       "    </tr>\n",
       "  </thead>\n",
       "  <tbody>\n",
       "  </tbody>\n",
       "</table>\n",
       "</div>"
      ],
      "text/plain": [
       "Empty DataFrame\n",
       "Columns: [family name, name, dir_path, has_run_file]\n",
       "Index: []"
      ]
     },
     "execution_count": 13,
     "metadata": {},
     "output_type": "execute_result"
    }
   ],
   "source": [
    "mask = ~df['has_run_file']\n",
    "df.loc[mask].apply(func=recreate_run_file, axis=1)"
   ]
  },
  {
   "cell_type": "code",
   "execution_count": 14,
   "metadata": {},
   "outputs": [
    {
     "data": {
      "text/html": [
       "<style  type=\"text/css\" >\n",
       "</style><table id=\"T_bddae0d2_02e2_11eb_8cb9_4845207816f3\" ><thead>    <tr>        <th class=\"blank level0\" ></th>        <th class=\"col_heading level0 col0\" >family name</th>        <th class=\"col_heading level0 col1\" >name</th>        <th class=\"col_heading level0 col2\" >dir_path</th>        <th class=\"col_heading level0 col3\" >has_run_file</th>    </tr></thead><tbody>\n",
       "        </tbody></table>"
      ],
      "text/plain": [
       "<pandas.io.formats.style.Styler at 0x2099b1dc4a8>"
      ]
     },
     "execution_count": 14,
     "metadata": {},
     "output_type": "execute_result"
    }
   ],
   "source": [
    "\n",
    "show(df.loc[mask])"
   ]
  },
  {
   "cell_type": "markdown",
   "metadata": {},
   "source": [
    "## Running the scripts to get the times"
   ]
  },
  {
   "cell_type": "code",
   "execution_count": 15,
   "metadata": {},
   "outputs": [],
   "source": [
    "def runner(row, eng):\n",
    "    \n",
    "    print('evaluate: %s %s' % (row['name'],row['family name']))\n",
    "    run_script_name = 'student_AutomaticGearbox.m'\n",
    "    \n",
    "    if os.path.exists(run_script_name):\n",
    "        os.remove(run_script_name)  # Remove old.\n",
    "    \n",
    "    assert not os.path.exists(run_script_name)\n",
    "    \n",
    "    for file in os.listdir(row['dir_path']):\n",
    "        ext = os.path.splitext(file)[-1]\n",
    "        if ext=='.m' or ext=='.mat':\n",
    "            src=os.path.join(row['dir_path'],file)\n",
    "            dst=file\n",
    "            shutil.copyfile(src,dst)\n",
    "    \n",
    "    assert os.path.exists(run_script_name)\n",
    "    \n",
    "    result = eng.runner()\n",
    "    finishing_time=result['TimeTotal'][0][-1]\n",
    "    return finishing_time\n",
    "    "
   ]
  },
  {
   "cell_type": "code",
   "execution_count": null,
   "metadata": {},
   "outputs": [
    {
     "name": "stdout",
     "output_type": "stream",
     "text": [
      "evaluate: Isak Dahlén\n",
      "evaluate: Petrus Dahlqvist\n",
      "evaluate: Isac Danielsson\n",
      "evaluate: Kirill Durkin\n",
      "evaluate: Philip Dynevik\n",
      "evaluate: Carl Edsbagge\n",
      "evaluate: Karl Egeland\n",
      "evaluate: Jonathan Ekdahl\n",
      "evaluate: Mohammed Ali El Masri\n",
      "evaluate: Benjamin Elm Jonsson\n",
      "evaluate: Johan Elnertz\n",
      "evaluate: Martin Engelsen\n",
      "evaluate: Love Engh\n",
      "evaluate: Daniel Eriksson\n",
      "evaluate: Vigg Eriksson\n",
      "evaluate: Johan Erlandsson\n",
      "evaluate: Jonathan Erneborg\n",
      "evaluate: David Espedalen\n",
      "evaluate: Fabian Fagerlind\n",
      "evaluate: Hilda Fahl\n",
      "evaluate: Bekir Fazlija\n",
      "evaluate: Rasmus Fischer\n",
      "Fail!\n",
      "evaluate: Sofia Friberg\n",
      "Fail!\n",
      "evaluate: Emelie Gillerstedt\n",
      "Fail!\n",
      "evaluate: Milton Göransson\n",
      "Fail!\n",
      "evaluate: Anna Götberg\n",
      "Fail!\n",
      "evaluate: Frida Gotenius\n"
     ]
    }
   ],
   "source": [
    "import matlab.engine\n",
    "eng = matlab.engine.start_matlab()\n",
    "\n",
    "for index, row in df.iterrows():\n",
    "    \n",
    "    try:\n",
    "        finishing_time = runner(row=row, eng=eng)\n",
    "    except Exception as e:\n",
    "        fail = True\n",
    "        df.loc[index,'finishing_time'] = np.NaN\n",
    "        print('Fail!')\n",
    "    else:\n",
    "        fail = False\n",
    "        df.loc[index,'finishing_time'] = finishing_time\n",
    "            \n",
    "eng.quit()"
   ]
  },
  {
   "cell_type": "code",
   "execution_count": null,
   "metadata": {},
   "outputs": [],
   "source": [
    "eng.quit()"
   ]
  },
  {
   "cell_type": "code",
   "execution_count": null,
   "metadata": {},
   "outputs": [],
   "source": [
    "df"
   ]
  },
  {
   "cell_type": "code",
   "execution_count": null,
   "metadata": {},
   "outputs": [],
   "source": []
  },
  {
   "cell_type": "code",
   "execution_count": null,
   "metadata": {},
   "outputs": [],
   "source": []
  }
 ],
 "metadata": {
  "kernelspec": {
   "display_name": "Python 3",
   "language": "python",
   "name": "python3"
  },
  "language_info": {
   "codemirror_mode": {
    "name": "ipython",
    "version": 3
   },
   "file_extension": ".py",
   "mimetype": "text/x-python",
   "name": "python",
   "nbconvert_exporter": "python",
   "pygments_lexer": "ipython3",
   "version": "3.6.8"
  }
 },
 "nbformat": 4,
 "nbformat_minor": 4
}
