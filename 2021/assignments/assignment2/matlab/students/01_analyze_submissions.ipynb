{
 "cells": [
  {
   "cell_type": "code",
   "execution_count": 2,
   "metadata": {},
   "outputs": [],
   "source": [
    "%matplotlib inline\n",
    "import pandas as pd\n",
    "import os\n",
    "import re\n",
    "import shutil\n",
    "import numpy as np\n",
    "import warnings"
   ]
  },
  {
   "cell_type": "code",
   "execution_count": 3,
   "metadata": {},
   "outputs": [],
   "source": [
    "df = pd.read_csv('students.csv', sep=';')"
   ]
  },
  {
   "cell_type": "code",
   "execution_count": 4,
   "metadata": {},
   "outputs": [
    {
     "data": {
      "text/html": [
       "<div>\n",
       "<style scoped>\n",
       "    .dataframe tbody tr th:only-of-type {\n",
       "        vertical-align: middle;\n",
       "    }\n",
       "\n",
       "    .dataframe tbody tr th {\n",
       "        vertical-align: top;\n",
       "    }\n",
       "\n",
       "    .dataframe thead th {\n",
       "        text-align: right;\n",
       "    }\n",
       "</style>\n",
       "<table border=\"1\" class=\"dataframe\">\n",
       "  <thead>\n",
       "    <tr style=\"text-align: right;\">\n",
       "      <th></th>\n",
       "      <th>family name</th>\n",
       "      <th>name</th>\n",
       "    </tr>\n",
       "  </thead>\n",
       "  <tbody>\n",
       "    <tr>\n",
       "      <th>0</th>\n",
       "      <td>Falkhage</td>\n",
       "      <td>Cornelia</td>\n",
       "    </tr>\n",
       "    <tr>\n",
       "      <th>1</th>\n",
       "      <td>Fällman</td>\n",
       "      <td>Amanda</td>\n",
       "    </tr>\n",
       "    <tr>\n",
       "      <th>2</th>\n",
       "      <td>Feldt</td>\n",
       "      <td>Axel</td>\n",
       "    </tr>\n",
       "    <tr>\n",
       "      <th>3</th>\n",
       "      <td>Flodin</td>\n",
       "      <td>Samuel</td>\n",
       "    </tr>\n",
       "    <tr>\n",
       "      <th>4</th>\n",
       "      <td>Florin</td>\n",
       "      <td>Ida</td>\n",
       "    </tr>\n",
       "    <tr>\n",
       "      <th>5</th>\n",
       "      <td>Forssgren</td>\n",
       "      <td>Anna</td>\n",
       "    </tr>\n",
       "    <tr>\n",
       "      <th>6</th>\n",
       "      <td>Forssmed</td>\n",
       "      <td>Elsa</td>\n",
       "    </tr>\n",
       "    <tr>\n",
       "      <th>7</th>\n",
       "      <td>Fredriksson</td>\n",
       "      <td>Mathias</td>\n",
       "    </tr>\n",
       "    <tr>\n",
       "      <th>8</th>\n",
       "      <td>Fröberg</td>\n",
       "      <td>Vincent</td>\n",
       "    </tr>\n",
       "    <tr>\n",
       "      <th>9</th>\n",
       "      <td>Furborg</td>\n",
       "      <td>Sara</td>\n",
       "    </tr>\n",
       "    <tr>\n",
       "      <th>10</th>\n",
       "      <td>Gelang</td>\n",
       "      <td>Hampus</td>\n",
       "    </tr>\n",
       "    <tr>\n",
       "      <th>11</th>\n",
       "      <td>Ghazy</td>\n",
       "      <td>Zahran Saeed</td>\n",
       "    </tr>\n",
       "    <tr>\n",
       "      <th>12</th>\n",
       "      <td>Görling</td>\n",
       "      <td>Carl</td>\n",
       "    </tr>\n",
       "    <tr>\n",
       "      <th>13</th>\n",
       "      <td>Graad</td>\n",
       "      <td>Matilda</td>\n",
       "    </tr>\n",
       "    <tr>\n",
       "      <th>14</th>\n",
       "      <td>Gunnarsson</td>\n",
       "      <td>Adam</td>\n",
       "    </tr>\n",
       "    <tr>\n",
       "      <th>15</th>\n",
       "      <td>Gustafsson</td>\n",
       "      <td>Amanda</td>\n",
       "    </tr>\n",
       "    <tr>\n",
       "      <th>16</th>\n",
       "      <td>Gustafsson</td>\n",
       "      <td>Karl-Axel</td>\n",
       "    </tr>\n",
       "    <tr>\n",
       "      <th>17</th>\n",
       "      <td>Gustafsson</td>\n",
       "      <td>Måns</td>\n",
       "    </tr>\n",
       "    <tr>\n",
       "      <th>18</th>\n",
       "      <td>Gustafsson</td>\n",
       "      <td>William</td>\n",
       "    </tr>\n",
       "    <tr>\n",
       "      <th>19</th>\n",
       "      <td>Haapalo</td>\n",
       "      <td>Oskar</td>\n",
       "    </tr>\n",
       "    <tr>\n",
       "      <th>20</th>\n",
       "      <td>Hallbäck</td>\n",
       "      <td>Hans</td>\n",
       "    </tr>\n",
       "    <tr>\n",
       "      <th>21</th>\n",
       "      <td>Haller</td>\n",
       "      <td>Gustav</td>\n",
       "    </tr>\n",
       "    <tr>\n",
       "      <th>22</th>\n",
       "      <td>Hansson</td>\n",
       "      <td>Fredrik</td>\n",
       "    </tr>\n",
       "    <tr>\n",
       "      <th>23</th>\n",
       "      <td>Hässel</td>\n",
       "      <td>Gustav</td>\n",
       "    </tr>\n",
       "    <tr>\n",
       "      <th>24</th>\n",
       "      <td>Helland</td>\n",
       "      <td>Wilmer</td>\n",
       "    </tr>\n",
       "  </tbody>\n",
       "</table>\n",
       "</div>"
      ],
      "text/plain": [
       "    family name          name\n",
       "0      Falkhage      Cornelia\n",
       "1       Fällman        Amanda\n",
       "2         Feldt          Axel\n",
       "3        Flodin        Samuel\n",
       "4        Florin           Ida\n",
       "5     Forssgren          Anna\n",
       "6      Forssmed          Elsa\n",
       "7   Fredriksson       Mathias\n",
       "8       Fröberg       Vincent\n",
       "9       Furborg          Sara\n",
       "10       Gelang        Hampus\n",
       "11        Ghazy  Zahran Saeed\n",
       "12      Görling          Carl\n",
       "13        Graad       Matilda\n",
       "14   Gunnarsson          Adam\n",
       "15   Gustafsson        Amanda\n",
       "16   Gustafsson     Karl-Axel\n",
       "17   Gustafsson          Måns\n",
       "18   Gustafsson       William\n",
       "19      Haapalo         Oskar\n",
       "20     Hallbäck          Hans\n",
       "21       Haller        Gustav\n",
       "22      Hansson       Fredrik\n",
       "23       Hässel        Gustav\n",
       "24      Helland        Wilmer"
      ]
     },
     "execution_count": 4,
     "metadata": {},
     "output_type": "execute_result"
    }
   ],
   "source": [
    "df"
   ]
  },
  {
   "cell_type": "code",
   "execution_count": 5,
   "metadata": {},
   "outputs": [],
   "source": [
    "regexp=re.compile(r'^ *(.*)')\n",
    "def clean_names(name):\n",
    "    result=regexp.search(name)\n",
    "    return result.group(1)"
   ]
  },
  {
   "cell_type": "code",
   "execution_count": 6,
   "metadata": {},
   "outputs": [],
   "source": [
    "df['name']=df['name'].apply(func=clean_names)"
   ]
  },
  {
   "cell_type": "code",
   "execution_count": 7,
   "metadata": {},
   "outputs": [],
   "source": [
    "def full_name(row):\n",
    "    return '%s %s' % (row['name'],row['family name'])"
   ]
  },
  {
   "cell_type": "code",
   "execution_count": 8,
   "metadata": {},
   "outputs": [],
   "source": [
    "df.index = df.apply(func=full_name, axis=1)\n",
    "assert df.index.is_unique"
   ]
  },
  {
   "cell_type": "code",
   "execution_count": 9,
   "metadata": {},
   "outputs": [],
   "source": [
    "def create_folder(row,root_path='assignments'):\n",
    "    \n",
    "    family_name = row['family name']\n",
    "    name = row['name']\n",
    "    dir_name = '%s_%s' % (family_name,name)\n",
    "    path = os.path.abspath(os.path.join(root_path,dir_name))\n",
    "    if not os.path.exists(path):\n",
    "        os.mkdir(path)\n",
    "    \n",
    "    return path\n",
    "    "
   ]
  },
  {
   "cell_type": "markdown",
   "metadata": {},
   "source": [
    "## Create folders:"
   ]
  },
  {
   "cell_type": "code",
   "execution_count": 10,
   "metadata": {},
   "outputs": [],
   "source": [
    "root_path='assignments'\n",
    "\n",
    "if not os.path.exists(root_path):\n",
    "    os.mkdir(root_path)\n",
    "\n",
    "df['dir_path'] = df.apply(func=create_folder, axis=1, root_path=root_path)"
   ]
  },
  {
   "cell_type": "code",
   "execution_count": 11,
   "metadata": {},
   "outputs": [],
   "source": [
    "def make_clickable(val):\n",
    "    s=r'file:///' + val\n",
    "    return '<a href=\"{}\">{}</a>'.format(s,\"path\")"
   ]
  },
  {
   "cell_type": "code",
   "execution_count": 12,
   "metadata": {},
   "outputs": [],
   "source": [
    "def show(df):\n",
    "    return df.style.format({'dir_path': make_clickable})"
   ]
  },
  {
   "cell_type": "markdown",
   "metadata": {
    "tags": []
   },
   "source": [
    "## Sort the assignment files into each student folder\n",
    "the files from Canvas look something like: *falkhagecornelia_63854_1658103_student_AutomaticGearbox.m*"
   ]
  },
  {
   "cell_type": "code",
   "execution_count": 13,
   "metadata": {},
   "outputs": [],
   "source": [
    "df['code name'] = df.apply(lambda x:x['family name'].lower()+x['name'].lower(), axis=1)"
   ]
  },
  {
   "cell_type": "code",
   "execution_count": 14,
   "metadata": {},
   "outputs": [
    {
     "data": {
      "text/plain": [
       "'falkhagecornelia'"
      ]
     },
     "execution_count": 14,
     "metadata": {},
     "output_type": "execute_result"
    }
   ],
   "source": [
    "file_name = 'falkhagecornelia_63854_1658103_student_AutomaticGearbox.m'\n",
    "regexp = re.compile(pattern=r'([^_]+)_\\d+_\\d+_(.+)')\n",
    "regexp.search(file_name).group(1)"
   ]
  },
  {
   "cell_type": "code",
   "execution_count": 15,
   "metadata": {},
   "outputs": [
    {
     "data": {
      "text/plain": [
       "'student_AutomaticGearbox.m'"
      ]
     },
     "execution_count": 15,
     "metadata": {},
     "output_type": "execute_result"
    }
   ],
   "source": [
    "regexp.search(file_name).group(2)"
   ]
  },
  {
   "cell_type": "code",
   "execution_count": 16,
   "metadata": {},
   "outputs": [],
   "source": [
    "submission_dir = 'submissions/'\n",
    "files = os.listdir(submission_dir)\n",
    "df_files = pd.DataFrame()\n",
    "\n",
    "for file_name in files:\n",
    "    s = pd.Series(dtype='object')\n",
    "    result = regexp.search(file_name)\n",
    "    s['code name'] = result.group(1)\n",
    "    s['file name'] = result.group(2)\n",
    "    s['original file name'] = file_name\n",
    "    df_files = df_files.append(s, ignore_index=True)\n"
   ]
  },
  {
   "cell_type": "code",
   "execution_count": 17,
   "metadata": {},
   "outputs": [
    {
     "data": {
      "text/html": [
       "<div>\n",
       "<style scoped>\n",
       "    .dataframe tbody tr th:only-of-type {\n",
       "        vertical-align: middle;\n",
       "    }\n",
       "\n",
       "    .dataframe tbody tr th {\n",
       "        vertical-align: top;\n",
       "    }\n",
       "\n",
       "    .dataframe thead th {\n",
       "        text-align: right;\n",
       "    }\n",
       "</style>\n",
       "<table border=\"1\" class=\"dataframe\">\n",
       "  <thead>\n",
       "    <tr style=\"text-align: right;\">\n",
       "      <th></th>\n",
       "      <th>code name</th>\n",
       "      <th>file name</th>\n",
       "      <th>original file name</th>\n",
       "    </tr>\n",
       "  </thead>\n",
       "  <tbody>\n",
       "    <tr>\n",
       "      <th>0</th>\n",
       "      <td>adaanmohamed</td>\n",
       "      <td>Inlämnningsuppgift2.pdf</td>\n",
       "      <td>adaanmohamed_50348_1679286_Inlämnningsuppgift2...</td>\n",
       "    </tr>\n",
       "    <tr>\n",
       "      <th>1</th>\n",
       "      <td>adaanmohamed</td>\n",
       "      <td>kaffeOchTe.m</td>\n",
       "      <td>adaanmohamed_50348_1679287_kaffeOchTe.m</td>\n",
       "    </tr>\n",
       "    <tr>\n",
       "      <th>2</th>\n",
       "      <td>ahagenalbin</td>\n",
       "      <td>kaffeOchTe.m</td>\n",
       "      <td>ahagenalbin_61667_1679637_kaffeOchTe.m</td>\n",
       "    </tr>\n",
       "    <tr>\n",
       "      <th>3</th>\n",
       "      <td>ahagenalbin</td>\n",
       "      <td>kaffeOchTe.pdf</td>\n",
       "      <td>ahagenalbin_61667_1679638_kaffeOchTe.pdf</td>\n",
       "    </tr>\n",
       "    <tr>\n",
       "      <th>4</th>\n",
       "      <td>albertssontim</td>\n",
       "      <td>Graf-Kombinerad.pdf</td>\n",
       "      <td>albertssontim_60948_1672688_Graf-Kombinerad.pdf</td>\n",
       "    </tr>\n",
       "  </tbody>\n",
       "</table>\n",
       "</div>"
      ],
      "text/plain": [
       "       code name                file name  \\\n",
       "0   adaanmohamed  Inlämnningsuppgift2.pdf   \n",
       "1   adaanmohamed             kaffeOchTe.m   \n",
       "2    ahagenalbin             kaffeOchTe.m   \n",
       "3    ahagenalbin           kaffeOchTe.pdf   \n",
       "4  albertssontim      Graf-Kombinerad.pdf   \n",
       "\n",
       "                                  original file name  \n",
       "0  adaanmohamed_50348_1679286_Inlämnningsuppgift2...  \n",
       "1            adaanmohamed_50348_1679287_kaffeOchTe.m  \n",
       "2             ahagenalbin_61667_1679637_kaffeOchTe.m  \n",
       "3           ahagenalbin_61667_1679638_kaffeOchTe.pdf  \n",
       "4    albertssontim_60948_1672688_Graf-Kombinerad.pdf  "
      ]
     },
     "execution_count": 17,
     "metadata": {},
     "output_type": "execute_result"
    }
   ],
   "source": [
    "df_files.head()"
   ]
  },
  {
   "cell_type": "code",
   "execution_count": 18,
   "metadata": {},
   "outputs": [],
   "source": [
    "df_files=pd.merge(left=df, right=df_files, how='outer', left_on='code name', right_on='code name').dropna(subset=['family name'])"
   ]
  },
  {
   "cell_type": "code",
   "execution_count": 19,
   "metadata": {},
   "outputs": [
    {
     "data": {
      "text/html": [
       "<div>\n",
       "<style scoped>\n",
       "    .dataframe tbody tr th:only-of-type {\n",
       "        vertical-align: middle;\n",
       "    }\n",
       "\n",
       "    .dataframe tbody tr th {\n",
       "        vertical-align: top;\n",
       "    }\n",
       "\n",
       "    .dataframe thead th {\n",
       "        text-align: right;\n",
       "    }\n",
       "</style>\n",
       "<table border=\"1\" class=\"dataframe\">\n",
       "  <thead>\n",
       "    <tr style=\"text-align: right;\">\n",
       "      <th></th>\n",
       "      <th>family name</th>\n",
       "      <th>name</th>\n",
       "      <th>dir_path</th>\n",
       "      <th>code name</th>\n",
       "      <th>file name</th>\n",
       "      <th>original file name</th>\n",
       "    </tr>\n",
       "  </thead>\n",
       "  <tbody>\n",
       "    <tr>\n",
       "      <th>42</th>\n",
       "      <td>Hansson</td>\n",
       "      <td>Fredrik</td>\n",
       "      <td>E:\\dev\\TME136-Programming-and-algorithms\\2021\\...</td>\n",
       "      <td>hanssonfredrik</td>\n",
       "      <td>Inlämningsuppgift 2, Fredrik Hansson-2.pdf</td>\n",
       "      <td>hanssonfredrik_61305_1672231_Inlämningsuppgift...</td>\n",
       "    </tr>\n",
       "    <tr>\n",
       "      <th>43</th>\n",
       "      <td>Hässel</td>\n",
       "      <td>Gustav</td>\n",
       "      <td>E:\\dev\\TME136-Programming-and-algorithms\\2021\\...</td>\n",
       "      <td>hässelgustav</td>\n",
       "      <td>kaffeochTe.m</td>\n",
       "      <td>hässelgustav_57869_1660514_kaffeochTe.m</td>\n",
       "    </tr>\n",
       "    <tr>\n",
       "      <th>44</th>\n",
       "      <td>Hässel</td>\n",
       "      <td>Gustav</td>\n",
       "      <td>E:\\dev\\TME136-Programming-and-algorithms\\2021\\...</td>\n",
       "      <td>hässelgustav</td>\n",
       "      <td>Kaffete.pdf</td>\n",
       "      <td>hässelgustav_57869_1660515_Kaffete.pdf</td>\n",
       "    </tr>\n",
       "    <tr>\n",
       "      <th>45</th>\n",
       "      <td>Helland</td>\n",
       "      <td>Wilmer</td>\n",
       "      <td>E:\\dev\\TME136-Programming-and-algorithms\\2021\\...</td>\n",
       "      <td>hellandwilmer</td>\n",
       "      <td>kaffeOchTe.m</td>\n",
       "      <td>hellandwilmer_61398_1675937_kaffeOchTe.m</td>\n",
       "    </tr>\n",
       "    <tr>\n",
       "      <th>46</th>\n",
       "      <td>Helland</td>\n",
       "      <td>Wilmer</td>\n",
       "      <td>E:\\dev\\TME136-Programming-and-algorithms\\2021\\...</td>\n",
       "      <td>hellandwilmer</td>\n",
       "      <td>KaffeTe.pdf</td>\n",
       "      <td>hellandwilmer_61398_1675938_KaffeTe.pdf</td>\n",
       "    </tr>\n",
       "  </tbody>\n",
       "</table>\n",
       "</div>"
      ],
      "text/plain": [
       "   family name     name                                           dir_path  \\\n",
       "42     Hansson  Fredrik  E:\\dev\\TME136-Programming-and-algorithms\\2021\\...   \n",
       "43      Hässel   Gustav  E:\\dev\\TME136-Programming-and-algorithms\\2021\\...   \n",
       "44      Hässel   Gustav  E:\\dev\\TME136-Programming-and-algorithms\\2021\\...   \n",
       "45     Helland   Wilmer  E:\\dev\\TME136-Programming-and-algorithms\\2021\\...   \n",
       "46     Helland   Wilmer  E:\\dev\\TME136-Programming-and-algorithms\\2021\\...   \n",
       "\n",
       "         code name                                   file name  \\\n",
       "42  hanssonfredrik  Inlämningsuppgift 2, Fredrik Hansson-2.pdf   \n",
       "43    hässelgustav                                kaffeochTe.m   \n",
       "44    hässelgustav                                 Kaffete.pdf   \n",
       "45   hellandwilmer                                kaffeOchTe.m   \n",
       "46   hellandwilmer                                 KaffeTe.pdf   \n",
       "\n",
       "                                   original file name  \n",
       "42  hanssonfredrik_61305_1672231_Inlämningsuppgift...  \n",
       "43            hässelgustav_57869_1660514_kaffeochTe.m  \n",
       "44             hässelgustav_57869_1660515_Kaffete.pdf  \n",
       "45           hellandwilmer_61398_1675937_kaffeOchTe.m  \n",
       "46            hellandwilmer_61398_1675938_KaffeTe.pdf  "
      ]
     },
     "execution_count": 19,
     "metadata": {},
     "output_type": "execute_result"
    }
   ],
   "source": [
    "df_files.tail()"
   ]
  },
  {
   "cell_type": "markdown",
   "metadata": {
    "tags": []
   },
   "source": [
    "### copy the files for each student"
   ]
  },
  {
   "cell_type": "code",
   "execution_count": 30,
   "metadata": {},
   "outputs": [],
   "source": [
    "def move_assignment_file_to_student_folder_with_correct_file_name(row, submission_dir, additional_files):\n",
    "    \n",
    "    if pd.isnull(row['original file name']):\n",
    "        return\n",
    "    \n",
    "    src=os.path.join(submission_dir, row['original file name'])\n",
    "    dst=os.path.join(row['dir_path'],row['file name'])\n",
    "    \n",
    "    if not os.path.exists(dst):\n",
    "        shutil.copyfile(src,dst)\n",
    "        \n",
    "    for additional_file in additional_files:\n",
    "        \n",
    "        src=additional_file\n",
    "        dst=os.path.join(row['dir_path'],os.path.split(additional_file)[-1])\n",
    "        shutil.copyfile(src,dst)\n",
    "        "
   ]
  },
  {
   "cell_type": "code",
   "execution_count": 31,
   "metadata": {},
   "outputs": [],
   "source": [
    "additional_files = ['../kaffeTe.txt','../kaffeTeKort.txt']\n",
    "\n",
    "df_files.apply(move_assignment_file_to_student_folder_with_correct_file_name, submission_dir=submission_dir, additional_files=additional_files, axis=1);"
   ]
  },
  {
   "cell_type": "code",
   "execution_count": null,
   "metadata": {},
   "outputs": [],
   "source": []
  }
 ],
 "metadata": {
  "kernelspec": {
   "display_name": "Python 3 (ipykernel)",
   "language": "python",
   "name": "python3"
  },
  "language_info": {
   "codemirror_mode": {
    "name": "ipython",
    "version": 3
   },
   "file_extension": ".py",
   "mimetype": "text/x-python",
   "name": "python",
   "nbconvert_exporter": "python",
   "pygments_lexer": "ipython3",
   "version": "3.7.9"
  }
 },
 "nbformat": 4,
 "nbformat_minor": 4
}
